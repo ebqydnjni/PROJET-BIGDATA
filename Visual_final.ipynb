{
 "cells": [
  {
   "cell_type": "code",
   "execution_count": 3,
   "id": "998d2a2f-e753-4f3d-a630-b8f03a955252",
   "metadata": {},
   "outputs": [],
   "source": [
    "# Importation des packages et bibilothèques nécéssaire à la visualisation.\n",
    "\n",
    "import pandas as pd\n",
    "import plotly.express as px\n",
    "import plotly.graph_objects as go\n",
    "\n",
    "\n",
    "\n",
    "\n"
   ]
  },
  {
   "cell_type": "code",
   "execution_count": 8,
   "id": "f9dc7561-3ce5-456f-acf8-f0a1c234a859",
   "metadata": {},
   "outputs": [
    {
     "name": "stdout",
     "output_type": "stream",
     "text": [
      "Dataset CO2:\n",
      "   Year country       co2  co2_per_capita    population  gdp  cement_co2  \\\n",
      "0  1880   World   853.916           0.603  1.415841e+09  0.0         0.0   \n",
      "1  1881   World   883.544           0.621  1.423705e+09  0.0         0.0   \n",
      "2  1882   World   933.360           0.651  1.433553e+09  0.0         0.0   \n",
      "3  1883   World   992.754           0.687  1.444009e+09  0.0         0.0   \n",
      "4  1884   World  1004.134           0.690  1.454595e+09  0.0         0.0   \n",
      "\n",
      "   coal_co2  oil_co2  \n",
      "0   838.524   15.392  \n",
      "1   866.278   17.266  \n",
      "2   914.231   18.964  \n",
      "3   975.842   16.530  \n",
      "4   984.619   18.342  \n",
      "\n",
      "Dataset THN:\n",
      "   Year   Jan   Feb   Mar   Apr   May   Jun   Jul   Aug   Sep   Oct   Nov  \\\n",
      "0  1880 -0.36 -0.51 -0.24 -0.30 -0.06 -0.16 -0.18 -0.25 -0.22 -0.31 -0.41   \n",
      "1  1881 -0.31 -0.22 -0.04  0.00  0.04 -0.34  0.08 -0.05 -0.28 -0.45 -0.37   \n",
      "2  1882  0.26  0.21  0.02 -0.32 -0.24 -0.30 -0.28 -0.14 -0.23 -0.52 -0.32   \n",
      "3  1883 -0.57 -0.66 -0.15 -0.29 -0.24 -0.13 -0.04 -0.22 -0.32 -0.16 -0.42   \n",
      "4  1884 -0.16 -0.09 -0.63 -0.60 -0.36 -0.43 -0.40 -0.50 -0.45 -0.44 -0.57   \n",
      "\n",
      "    Dec  mean_year  mean_winter  mean_spring  mean_summer  mean_autumn  \n",
      "0 -0.40      -0.28         0.00        -0.20        -0.20        -0.31  \n",
      "1 -0.23      -0.18        -0.31         0.00        -0.10        -0.36  \n",
      "2 -0.67      -0.21         0.08        -0.18        -0.24        -0.36  \n",
      "3 -0.15      -0.28        -0.63        -0.23        -0.13        -0.30  \n",
      "4 -0.46      -0.42        -0.13        -0.53        -0.44        -0.49  \n",
      "\n",
      "Dataset THS:\n",
      "   Year   Jan   Feb   Mar   Apr   May   Jun   Jul   Aug   Sep   Oct   Nov  \\\n",
      "0  1880 -0.01  0.03  0.05 -0.02 -0.13 -0.25 -0.18  0.06 -0.05 -0.15 -0.01   \n",
      "1  1881 -0.09 -0.07  0.09  0.09  0.08 -0.06 -0.08 -0.03 -0.04 -0.01 -0.01   \n",
      "2  1882  0.06  0.07  0.07 -0.02 -0.05 -0.16 -0.05  0.00 -0.04  0.03 -0.02   \n",
      "3  1883 -0.03 -0.08 -0.09 -0.07 -0.10 -0.03 -0.09 -0.06 -0.10 -0.06 -0.05   \n",
      "4  1884 -0.09 -0.06 -0.10 -0.22 -0.32 -0.30 -0.22 -0.07 -0.11 -0.07 -0.11   \n",
      "\n",
      "    Dec  mean_year  mean_winter  mean_spring  mean_summer  mean_autumn  \n",
      "0  0.05      -0.05         0.00        -0.03        -0.12        -0.07  \n",
      "1  0.09       0.00        -0.04         0.09        -0.06        -0.02  \n",
      "2 -0.08      -0.01         0.07         0.00        -0.07        -0.01  \n",
      "3 -0.06      -0.07        -0.06        -0.09        -0.06        -0.07  \n",
      "4 -0.15      -0.15        -0.07        -0.21        -0.19        -0.09  \n",
      "\n",
      "Dataset TM:\n",
      "   Year   Jan   Feb   Mar   Apr   May   Jun   Jul   Aug   Sep   Oct   Nov  \\\n",
      "0  1880 -0.19 -0.24 -0.09 -0.16 -0.10 -0.21 -0.18 -0.10 -0.14 -0.23 -0.21   \n",
      "1  1881 -0.20 -0.14  0.03  0.05  0.06 -0.19  0.00 -0.04 -0.15 -0.22 -0.19   \n",
      "2  1882  0.16  0.14  0.05 -0.17 -0.14 -0.23 -0.16 -0.07 -0.14 -0.23 -0.16   \n",
      "3  1883 -0.29 -0.37 -0.12 -0.18 -0.17 -0.08 -0.06 -0.14 -0.21 -0.11 -0.23   \n",
      "4  1884 -0.13 -0.07 -0.36 -0.40 -0.34 -0.36 -0.30 -0.27 -0.27 -0.25 -0.33   \n",
      "\n",
      "    Dec  mean_year  mean_winter  mean_spring  mean_summer  mean_autumn  \n",
      "0 -0.18      -0.17         0.00        -0.12        -0.16        -0.19  \n",
      "1 -0.07      -0.09        -0.17         0.05        -0.08        -0.19  \n",
      "2 -0.35      -0.11         0.08        -0.09        -0.15        -0.18  \n",
      "3 -0.11      -0.17        -0.34        -0.16        -0.09        -0.18  \n",
      "4 -0.30      -0.28        -0.10        -0.37        -0.31        -0.28  \n"
     ]
    }
   ],
   "source": [
    "# Chargement des datasets.\n",
    "datasets = {\n",
    "    \"CO2\": pd.read_csv(r\"C:\\projet\\ficher_traiter_spark\\CO2_cleaned.csv\\CO2.csv\"),  \n",
    "    \"THN\": pd.read_csv(r\"C:\\projet\\ficher_traiter_spark\\THN_cleaned.csv\\THN.csv\"),  \n",
    "    \"THS\": pd.read_csv(r\"C:\\projet\\ficher_traiter_spark\\THS_cleaned.csv\\THS.csv\"),\n",
    "    \"TM\": pd.read_csv(r\"C:\\projet\\ficher_traiter_spark\\TM_cleaned.csv\\TM.csv\"), \n",
    "}\n",
    "# Affichage des premières lignes de chaque dataset.\n",
    "print(\"Dataset CO2:\")\n",
    "print(datasets[\"CO2\"].head(5))\n",
    "print(\"\\nDataset THN:\")\n",
    "print(datasets[\"THN\"].head(5))\n",
    "print(\"\\nDataset THS:\")\n",
    "print(datasets[\"THS\"].head(5))\n",
    "print(\"\\nDataset TM:\")\n",
    "print(datasets[\"TM\"].head(5))"
   ]
  },
  {
   "cell_type": "code",
   "execution_count": null,
   "id": "577d2cb1-aab5-4722-82e5-b41ebe827dd8",
   "metadata": {},
   "outputs": [],
   "source": [
    "# Création de graphique pour visualiser nos données."
   ]
  },
  {
   "cell_type": "code",
   "execution_count": 11,
   "id": "249ec932-5714-4c85-a2cc-4ee8fb55be00",
   "metadata": {},
   "outputs": [
    {
     "name": "stdin",
     "output_type": "stream",
     "text": [
      "Choisissez un dataset (CO2, THN, THS, THS):  THN\n",
      "Choisissez une variable à visualiser dans THN :  mean_year\n",
      "Choisissez un type de graphique (Line, Bar ou Box) :  Bar\n"
     ]
    },
    {
     "data": {
      "application/vnd.plotly.v1+json": {
       "config": {
        "plotlyServerURL": "https://plot.ly"
       },
       "data": [
        {
         "alignmentgroup": "True",
         "hovertemplate": "Year=%{x}<br>mean_year=%{marker.color}<extra></extra>",
         "legendgroup": "",
         "marker": {
          "color": [
           -0.28,
           -0.18,
           -0.21,
           -0.28,
           -0.42,
           -0.44,
           -0.43,
           -0.44,
           -0.23,
           -0.17,
           -0.39,
           -0.25,
           -0.39,
           -0.47,
           -0.39,
           -0.3,
           -0.19,
           -0.16,
           -0.28,
           -0.2,
           -0.08,
           -0.12,
           -0.33,
           -0.37,
           -0.48,
           -0.28,
           -0.23,
           -0.47,
           -0.45,
           -0.49,
           -0.44,
           -0.42,
           -0.47,
           -0.42,
           -0.19,
           -0.14,
           -0.42,
           -0.57,
           -0.39,
           -0.35,
           -0.3,
           -0.11,
           -0.27,
           -0.22,
           -0.18,
           -0.13,
           0.02,
           -0.13,
           -0.1,
           -0.33,
           -0.01,
           0.05,
           -0.05,
           -0.25,
           0,
           -0.09,
           -0.03,
           0.13,
           0.16,
           0.09,
           0.17,
           0.23,
           0.12,
           0.18,
           0.27,
           0.1,
           0.03,
           0.08,
           -0.01,
           -0.03,
           -0.15,
           0.04,
           0.06,
           0.24,
           -0.02,
           -0.09,
           -0.23,
           0.04,
           0.15,
           0.12,
           0.08,
           0.08,
           0.12,
           0.14,
           -0.19,
           -0.14,
           -0.02,
           0.03,
           -0.07,
           -0.03,
           -0.04,
           -0.15,
           -0.18,
           0.09,
           -0.18,
           -0.05,
           -0.21,
           0.12,
           0.02,
           0.08,
           0.17,
           0.37,
           0.06,
           0.25,
           0.04,
           0,
           0.13,
           0.25,
           0.37,
           0.27,
           0.53,
           0.41,
           0.14,
           0.19,
           0.37,
           0.58,
           0.26,
           0.52,
           0.71,
           0.48,
           0.5,
           0.64,
           0.71,
           0.75,
           0.66,
           0.86,
           0.82,
           0.85,
           0.68,
           0.72,
           0.9,
           0.74,
           0.81,
           0.8,
           0.92,
           1.17,
           1.31,
           1.17,
           1.03,
           1.2,
           1.35,
           1.14,
           1.16,
           1.49
          ],
          "coloraxis": "coloraxis",
          "pattern": {
           "shape": ""
          }
         },
         "name": "",
         "offsetgroup": "",
         "orientation": "v",
         "showlegend": false,
         "textposition": "auto",
         "type": "bar",
         "x": [
          1880,
          1881,
          1882,
          1883,
          1884,
          1885,
          1886,
          1887,
          1888,
          1889,
          1890,
          1891,
          1892,
          1893,
          1894,
          1895,
          1896,
          1897,
          1898,
          1899,
          1900,
          1901,
          1902,
          1903,
          1904,
          1905,
          1906,
          1907,
          1908,
          1909,
          1910,
          1911,
          1912,
          1913,
          1914,
          1915,
          1916,
          1917,
          1918,
          1919,
          1920,
          1921,
          1922,
          1923,
          1924,
          1925,
          1926,
          1927,
          1928,
          1929,
          1930,
          1931,
          1932,
          1933,
          1934,
          1935,
          1936,
          1937,
          1938,
          1939,
          1940,
          1941,
          1942,
          1943,
          1944,
          1945,
          1946,
          1947,
          1948,
          1949,
          1950,
          1951,
          1952,
          1953,
          1954,
          1955,
          1956,
          1957,
          1958,
          1959,
          1960,
          1961,
          1962,
          1963,
          1964,
          1965,
          1966,
          1967,
          1968,
          1969,
          1970,
          1971,
          1972,
          1973,
          1974,
          1975,
          1976,
          1977,
          1978,
          1979,
          1980,
          1981,
          1982,
          1983,
          1984,
          1985,
          1986,
          1987,
          1988,
          1989,
          1990,
          1991,
          1992,
          1993,
          1994,
          1995,
          1996,
          1997,
          1998,
          1999,
          2000,
          2001,
          2002,
          2003,
          2004,
          2005,
          2006,
          2007,
          2008,
          2009,
          2010,
          2011,
          2012,
          2013,
          2014,
          2015,
          2016,
          2017,
          2018,
          2019,
          2020,
          2021,
          2022,
          2023
         ],
         "xaxis": "x",
         "y": [
          -0.28,
          -0.18,
          -0.21,
          -0.28,
          -0.42,
          -0.44,
          -0.43,
          -0.44,
          -0.23,
          -0.17,
          -0.39,
          -0.25,
          -0.39,
          -0.47,
          -0.39,
          -0.3,
          -0.19,
          -0.16,
          -0.28,
          -0.2,
          -0.08,
          -0.12,
          -0.33,
          -0.37,
          -0.48,
          -0.28,
          -0.23,
          -0.47,
          -0.45,
          -0.49,
          -0.44,
          -0.42,
          -0.47,
          -0.42,
          -0.19,
          -0.14,
          -0.42,
          -0.57,
          -0.39,
          -0.35,
          -0.3,
          -0.11,
          -0.27,
          -0.22,
          -0.18,
          -0.13,
          0.02,
          -0.13,
          -0.1,
          -0.33,
          -0.01,
          0.05,
          -0.05,
          -0.25,
          0,
          -0.09,
          -0.03,
          0.13,
          0.16,
          0.09,
          0.17,
          0.23,
          0.12,
          0.18,
          0.27,
          0.1,
          0.03,
          0.08,
          -0.01,
          -0.03,
          -0.15,
          0.04,
          0.06,
          0.24,
          -0.02,
          -0.09,
          -0.23,
          0.04,
          0.15,
          0.12,
          0.08,
          0.08,
          0.12,
          0.14,
          -0.19,
          -0.14,
          -0.02,
          0.03,
          -0.07,
          -0.03,
          -0.04,
          -0.15,
          -0.18,
          0.09,
          -0.18,
          -0.05,
          -0.21,
          0.12,
          0.02,
          0.08,
          0.17,
          0.37,
          0.06,
          0.25,
          0.04,
          0,
          0.13,
          0.25,
          0.37,
          0.27,
          0.53,
          0.41,
          0.14,
          0.19,
          0.37,
          0.58,
          0.26,
          0.52,
          0.71,
          0.48,
          0.5,
          0.64,
          0.71,
          0.75,
          0.66,
          0.86,
          0.82,
          0.85,
          0.68,
          0.72,
          0.9,
          0.74,
          0.81,
          0.8,
          0.92,
          1.17,
          1.31,
          1.17,
          1.03,
          1.2,
          1.35,
          1.14,
          1.16,
          1.49
         ],
         "yaxis": "y"
        }
       ],
       "layout": {
        "autosize": true,
        "barmode": "stack",
        "coloraxis": {
         "colorbar": {
          "title": {
           "text": "mean_year"
          }
         },
         "colorscale": [
          [
           0,
           "#0d0887"
          ],
          [
           0.1111111111111111,
           "#46039f"
          ],
          [
           0.2222222222222222,
           "#7201a8"
          ],
          [
           0.3333333333333333,
           "#9c179e"
          ],
          [
           0.4444444444444444,
           "#bd3786"
          ],
          [
           0.5555555555555556,
           "#d8576b"
          ],
          [
           0.6666666666666666,
           "#ed7953"
          ],
          [
           0.7777777777777778,
           "#fb9f3a"
          ],
          [
           0.8888888888888888,
           "#fdca26"
          ],
          [
           1,
           "#f0f921"
          ]
         ]
        },
        "legend": {
         "tracegroupgap": 0
        },
        "template": {
         "data": {
          "bar": [
           {
            "error_x": {
             "color": "#2a3f5f"
            },
            "error_y": {
             "color": "#2a3f5f"
            },
            "marker": {
             "line": {
              "color": "#E5ECF6",
              "width": 0.5
             },
             "pattern": {
              "fillmode": "overlay",
              "size": 10,
              "solidity": 0.2
             }
            },
            "type": "bar"
           }
          ],
          "barpolar": [
           {
            "marker": {
             "line": {
              "color": "#E5ECF6",
              "width": 0.5
             },
             "pattern": {
              "fillmode": "overlay",
              "size": 10,
              "solidity": 0.2
             }
            },
            "type": "barpolar"
           }
          ],
          "carpet": [
           {
            "aaxis": {
             "endlinecolor": "#2a3f5f",
             "gridcolor": "white",
             "linecolor": "white",
             "minorgridcolor": "white",
             "startlinecolor": "#2a3f5f"
            },
            "baxis": {
             "endlinecolor": "#2a3f5f",
             "gridcolor": "white",
             "linecolor": "white",
             "minorgridcolor": "white",
             "startlinecolor": "#2a3f5f"
            },
            "type": "carpet"
           }
          ],
          "choropleth": [
           {
            "colorbar": {
             "outlinewidth": 0,
             "ticks": ""
            },
            "type": "choropleth"
           }
          ],
          "contour": [
           {
            "colorbar": {
             "outlinewidth": 0,
             "ticks": ""
            },
            "colorscale": [
             [
              0,
              "#0d0887"
             ],
             [
              0.1111111111111111,
              "#46039f"
             ],
             [
              0.2222222222222222,
              "#7201a8"
             ],
             [
              0.3333333333333333,
              "#9c179e"
             ],
             [
              0.4444444444444444,
              "#bd3786"
             ],
             [
              0.5555555555555556,
              "#d8576b"
             ],
             [
              0.6666666666666666,
              "#ed7953"
             ],
             [
              0.7777777777777778,
              "#fb9f3a"
             ],
             [
              0.8888888888888888,
              "#fdca26"
             ],
             [
              1,
              "#f0f921"
             ]
            ],
            "type": "contour"
           }
          ],
          "contourcarpet": [
           {
            "colorbar": {
             "outlinewidth": 0,
             "ticks": ""
            },
            "type": "contourcarpet"
           }
          ],
          "heatmap": [
           {
            "colorbar": {
             "outlinewidth": 0,
             "ticks": ""
            },
            "colorscale": [
             [
              0,
              "#0d0887"
             ],
             [
              0.1111111111111111,
              "#46039f"
             ],
             [
              0.2222222222222222,
              "#7201a8"
             ],
             [
              0.3333333333333333,
              "#9c179e"
             ],
             [
              0.4444444444444444,
              "#bd3786"
             ],
             [
              0.5555555555555556,
              "#d8576b"
             ],
             [
              0.6666666666666666,
              "#ed7953"
             ],
             [
              0.7777777777777778,
              "#fb9f3a"
             ],
             [
              0.8888888888888888,
              "#fdca26"
             ],
             [
              1,
              "#f0f921"
             ]
            ],
            "type": "heatmap"
           }
          ],
          "heatmapgl": [
           {
            "colorbar": {
             "outlinewidth": 0,
             "ticks": ""
            },
            "colorscale": [
             [
              0,
              "#0d0887"
             ],
             [
              0.1111111111111111,
              "#46039f"
             ],
             [
              0.2222222222222222,
              "#7201a8"
             ],
             [
              0.3333333333333333,
              "#9c179e"
             ],
             [
              0.4444444444444444,
              "#bd3786"
             ],
             [
              0.5555555555555556,
              "#d8576b"
             ],
             [
              0.6666666666666666,
              "#ed7953"
             ],
             [
              0.7777777777777778,
              "#fb9f3a"
             ],
             [
              0.8888888888888888,
              "#fdca26"
             ],
             [
              1,
              "#f0f921"
             ]
            ],
            "type": "heatmapgl"
           }
          ],
          "histogram": [
           {
            "marker": {
             "pattern": {
              "fillmode": "overlay",
              "size": 10,
              "solidity": 0.2
             }
            },
            "type": "histogram"
           }
          ],
          "histogram2d": [
           {
            "colorbar": {
             "outlinewidth": 0,
             "ticks": ""
            },
            "colorscale": [
             [
              0,
              "#0d0887"
             ],
             [
              0.1111111111111111,
              "#46039f"
             ],
             [
              0.2222222222222222,
              "#7201a8"
             ],
             [
              0.3333333333333333,
              "#9c179e"
             ],
             [
              0.4444444444444444,
              "#bd3786"
             ],
             [
              0.5555555555555556,
              "#d8576b"
             ],
             [
              0.6666666666666666,
              "#ed7953"
             ],
             [
              0.7777777777777778,
              "#fb9f3a"
             ],
             [
              0.8888888888888888,
              "#fdca26"
             ],
             [
              1,
              "#f0f921"
             ]
            ],
            "type": "histogram2d"
           }
          ],
          "histogram2dcontour": [
           {
            "colorbar": {
             "outlinewidth": 0,
             "ticks": ""
            },
            "colorscale": [
             [
              0,
              "#0d0887"
             ],
             [
              0.1111111111111111,
              "#46039f"
             ],
             [
              0.2222222222222222,
              "#7201a8"
             ],
             [
              0.3333333333333333,
              "#9c179e"
             ],
             [
              0.4444444444444444,
              "#bd3786"
             ],
             [
              0.5555555555555556,
              "#d8576b"
             ],
             [
              0.6666666666666666,
              "#ed7953"
             ],
             [
              0.7777777777777778,
              "#fb9f3a"
             ],
             [
              0.8888888888888888,
              "#fdca26"
             ],
             [
              1,
              "#f0f921"
             ]
            ],
            "type": "histogram2dcontour"
           }
          ],
          "mesh3d": [
           {
            "colorbar": {
             "outlinewidth": 0,
             "ticks": ""
            },
            "type": "mesh3d"
           }
          ],
          "parcoords": [
           {
            "line": {
             "colorbar": {
              "outlinewidth": 0,
              "ticks": ""
             }
            },
            "type": "parcoords"
           }
          ],
          "pie": [
           {
            "automargin": true,
            "type": "pie"
           }
          ],
          "scatter": [
           {
            "fillpattern": {
             "fillmode": "overlay",
             "size": 10,
             "solidity": 0.2
            },
            "type": "scatter"
           }
          ],
          "scatter3d": [
           {
            "line": {
             "colorbar": {
              "outlinewidth": 0,
              "ticks": ""
             }
            },
            "marker": {
             "colorbar": {
              "outlinewidth": 0,
              "ticks": ""
             }
            },
            "type": "scatter3d"
           }
          ],
          "scattercarpet": [
           {
            "marker": {
             "colorbar": {
              "outlinewidth": 0,
              "ticks": ""
             }
            },
            "type": "scattercarpet"
           }
          ],
          "scattergeo": [
           {
            "marker": {
             "colorbar": {
              "outlinewidth": 0,
              "ticks": ""
             }
            },
            "type": "scattergeo"
           }
          ],
          "scattergl": [
           {
            "marker": {
             "colorbar": {
              "outlinewidth": 0,
              "ticks": ""
             }
            },
            "type": "scattergl"
           }
          ],
          "scattermapbox": [
           {
            "marker": {
             "colorbar": {
              "outlinewidth": 0,
              "ticks": ""
             }
            },
            "type": "scattermapbox"
           }
          ],
          "scatterpolar": [
           {
            "marker": {
             "colorbar": {
              "outlinewidth": 0,
              "ticks": ""
             }
            },
            "type": "scatterpolar"
           }
          ],
          "scatterpolargl": [
           {
            "marker": {
             "colorbar": {
              "outlinewidth": 0,
              "ticks": ""
             }
            },
            "type": "scatterpolargl"
           }
          ],
          "scatterternary": [
           {
            "marker": {
             "colorbar": {
              "outlinewidth": 0,
              "ticks": ""
             }
            },
            "type": "scatterternary"
           }
          ],
          "surface": [
           {
            "colorbar": {
             "outlinewidth": 0,
             "ticks": ""
            },
            "colorscale": [
             [
              0,
              "#0d0887"
             ],
             [
              0.1111111111111111,
              "#46039f"
             ],
             [
              0.2222222222222222,
              "#7201a8"
             ],
             [
              0.3333333333333333,
              "#9c179e"
             ],
             [
              0.4444444444444444,
              "#bd3786"
             ],
             [
              0.5555555555555556,
              "#d8576b"
             ],
             [
              0.6666666666666666,
              "#ed7953"
             ],
             [
              0.7777777777777778,
              "#fb9f3a"
             ],
             [
              0.8888888888888888,
              "#fdca26"
             ],
             [
              1,
              "#f0f921"
             ]
            ],
            "type": "surface"
           }
          ],
          "table": [
           {
            "cells": {
             "fill": {
              "color": "#EBF0F8"
             },
             "line": {
              "color": "white"
             }
            },
            "header": {
             "fill": {
              "color": "#C8D4E3"
             },
             "line": {
              "color": "white"
             }
            },
            "type": "table"
           }
          ]
         },
         "layout": {
          "annotationdefaults": {
           "arrowcolor": "#2a3f5f",
           "arrowhead": 0,
           "arrowwidth": 1
          },
          "autotypenumbers": "strict",
          "coloraxis": {
           "colorbar": {
            "outlinewidth": 0,
            "ticks": ""
           }
          },
          "colorscale": {
           "diverging": [
            [
             0,
             "#8e0152"
            ],
            [
             0.1,
             "#c51b7d"
            ],
            [
             0.2,
             "#de77ae"
            ],
            [
             0.3,
             "#f1b6da"
            ],
            [
             0.4,
             "#fde0ef"
            ],
            [
             0.5,
             "#f7f7f7"
            ],
            [
             0.6,
             "#e6f5d0"
            ],
            [
             0.7,
             "#b8e186"
            ],
            [
             0.8,
             "#7fbc41"
            ],
            [
             0.9,
             "#4d9221"
            ],
            [
             1,
             "#276419"
            ]
           ],
           "sequential": [
            [
             0,
             "#0d0887"
            ],
            [
             0.1111111111111111,
             "#46039f"
            ],
            [
             0.2222222222222222,
             "#7201a8"
            ],
            [
             0.3333333333333333,
             "#9c179e"
            ],
            [
             0.4444444444444444,
             "#bd3786"
            ],
            [
             0.5555555555555556,
             "#d8576b"
            ],
            [
             0.6666666666666666,
             "#ed7953"
            ],
            [
             0.7777777777777778,
             "#fb9f3a"
            ],
            [
             0.8888888888888888,
             "#fdca26"
            ],
            [
             1,
             "#f0f921"
            ]
           ],
           "sequentialminus": [
            [
             0,
             "#0d0887"
            ],
            [
             0.1111111111111111,
             "#46039f"
            ],
            [
             0.2222222222222222,
             "#7201a8"
            ],
            [
             0.3333333333333333,
             "#9c179e"
            ],
            [
             0.4444444444444444,
             "#bd3786"
            ],
            [
             0.5555555555555556,
             "#d8576b"
            ],
            [
             0.6666666666666666,
             "#ed7953"
            ],
            [
             0.7777777777777778,
             "#fb9f3a"
            ],
            [
             0.8888888888888888,
             "#fdca26"
            ],
            [
             1,
             "#f0f921"
            ]
           ]
          },
          "colorway": [
           "#636efa",
           "#EF553B",
           "#00cc96",
           "#ab63fa",
           "#FFA15A",
           "#19d3f3",
           "#FF6692",
           "#B6E880",
           "#FF97FF",
           "#FECB52"
          ],
          "font": {
           "color": "#2a3f5f"
          },
          "geo": {
           "bgcolor": "white",
           "lakecolor": "white",
           "landcolor": "#E5ECF6",
           "showlakes": true,
           "showland": true,
           "subunitcolor": "white"
          },
          "hoverlabel": {
           "align": "left"
          },
          "hovermode": "closest",
          "mapbox": {
           "style": "light"
          },
          "paper_bgcolor": "white",
          "plot_bgcolor": "#E5ECF6",
          "polar": {
           "angularaxis": {
            "gridcolor": "white",
            "linecolor": "white",
            "ticks": ""
           },
           "bgcolor": "#E5ECF6",
           "radialaxis": {
            "gridcolor": "white",
            "linecolor": "white",
            "ticks": ""
           }
          },
          "scene": {
           "xaxis": {
            "backgroundcolor": "#E5ECF6",
            "gridcolor": "white",
            "gridwidth": 2,
            "linecolor": "white",
            "showbackground": true,
            "ticks": "",
            "zerolinecolor": "white"
           },
           "yaxis": {
            "backgroundcolor": "#E5ECF6",
            "gridcolor": "white",
            "gridwidth": 2,
            "linecolor": "white",
            "showbackground": true,
            "ticks": "",
            "zerolinecolor": "white"
           },
           "zaxis": {
            "backgroundcolor": "#E5ECF6",
            "gridcolor": "white",
            "gridwidth": 2,
            "linecolor": "white",
            "showbackground": true,
            "ticks": "",
            "zerolinecolor": "white"
           }
          },
          "shapedefaults": {
           "line": {
            "color": "#2a3f5f"
           }
          },
          "ternary": {
           "aaxis": {
            "gridcolor": "white",
            "linecolor": "white",
            "ticks": ""
           },
           "baxis": {
            "gridcolor": "white",
            "linecolor": "white",
            "ticks": ""
           },
           "bgcolor": "#E5ECF6",
           "caxis": {
            "gridcolor": "white",
            "linecolor": "white",
            "ticks": ""
           }
          },
          "title": {
           "x": 0.05
          },
          "xaxis": {
           "automargin": true,
           "gridcolor": "white",
           "linecolor": "white",
           "ticks": "",
           "title": {
            "standoff": 15
           },
           "zerolinecolor": "white",
           "zerolinewidth": 2
          },
          "yaxis": {
           "automargin": true,
           "gridcolor": "white",
           "linecolor": "white",
           "ticks": "",
           "title": {
            "standoff": 15
           },
           "zerolinecolor": "white",
           "zerolinewidth": 2
          }
         }
        },
        "title": {
         "text": "Bar - mean_year (THN)",
         "x": 0.4,
         "xanchor": "center",
         "y": 0.9,
         "yanchor": "top"
        },
        "xaxis": {
         "anchor": "y",
         "autorange": true,
         "domain": [
          0,
          1
         ],
         "range": [
          1879.5,
          2023.5
         ],
         "title": {
          "text": "Années"
         },
         "type": "linear"
        },
        "yaxis": {
         "anchor": "x",
         "autorange": true,
         "domain": [
          0,
          1
         ],
         "range": [
          -0.6844444444444444,
          1.6044444444444443
         ],
         "title": {
          "text": "mean_year"
         },
         "type": "linear"
        }
       }
      },
      "image/png": "[encoded data removed]",
      "text/html": [
       "<div>                            <div id=\"d2e237c4-f3bd-4ad9-b0b3-8a2bab8750d8\" class=\"plotly-graph-div\" style=\"height:525px; width:100%;\"></div>            <script type=\"text/javascript\">                require([\"plotly\"], function(Plotly) {                    window.PLOTLYENV=window.PLOTLYENV || {};                                    if (document.getElementById(\"d2e237c4-f3bd-4ad9-b0b3-8a2bab8750d8\")) {                    Plotly.newPlot(                        \"d2e237c4-f3bd-4ad9-b0b3-8a2bab8750d8\",                        [{\"alignmentgroup\":\"True\",\"hovertemplate\":\"Year=%{x}\\u003cbr\\u003emean_year=%{marker.color}\\u003cextra\\u003e\\u003c\\u002fextra\\u003e\",\"legendgroup\":\"\",\"marker\":{\"color\":[-0.28,-0.18,-0.21,-0.28,-0.42,-0.44,-0.43,-0.44,-0.23,-0.17,-0.39,-0.25,-0.39,-0.47,-0.39,-0.3,-0.19,-0.16,-0.28,-0.2,-0.08,-0.12,-0.33,-0.37,-0.48,-0.28,-0.23,-0.47,-0.45,-0.49,-0.44,-0.42,-0.47,-0.42,-0.19,-0.14,-0.42,-0.57,-0.39,-0.35,-0.3,-0.11,-0.27,-0.22,-0.18,-0.13,0.02,-0.13,-0.1,-0.33,-0.01,0.05,-0.05,-0.25,0.0,-0.09,-0.03,0.13,0.16,0.09,0.17,0.23,0.12,0.18,0.27,0.1,0.03,0.08,-0.01,-0.03,-0.15,0.04,0.06,0.24,-0.02,-0.09,-0.23,0.04,0.15,0.12,0.08,0.08,0.12,0.14,-0.19,-0.14,-0.02,0.03,-0.07,-0.03,-0.04,-0.15,-0.18,0.09,-0.18,-0.05,-0.21,0.12,0.02,0.08,0.17,0.37,0.06,0.25,0.04,0.0,0.13,0.25,0.37,0.27,0.53,0.41,0.14,0.19,0.37,0.58,0.26,0.52,0.71,0.48,0.5,0.64,0.71,0.75,0.66,0.86,0.82,0.85,0.68,0.72,0.9,0.74,0.81,0.8,0.92,1.17,1.31,1.17,1.03,1.2,1.35,1.14,1.16,1.49],\"coloraxis\":\"coloraxis\",\"pattern\":{\"shape\":\"\"}},\"name\":\"\",\"offsetgroup\":\"\",\"orientation\":\"v\",\"showlegend\":false,\"textposition\":\"auto\",\"x\":[1880,1881,1882,1883,1884,1885,1886,1887,1888,1889,1890,1891,1892,1893,1894,1895,1896,1897,1898,1899,1900,1901,1902,1903,1904,1905,1906,1907,1908,1909,1910,1911,1912,1913,1914,1915,1916,1917,1918,1919,1920,1921,1922,1923,1924,1925,1926,1927,1928,1929,1930,1931,1932,1933,1934,1935,1936,1937,1938,1939,1940,1941,1942,1943,1944,1945,1946,1947,1948,1949,1950,1951,1952,1953,1954,1955,1956,1957,1958,1959,1960,1961,1962,1963,1964,1965,1966,1967,1968,1969,1970,1971,1972,1973,1974,1975,1976,1977,1978,1979,1980,1981,1982,1983,1984,1985,1986,1987,1988,1989,1990,1991,1992,1993,1994,1995,1996,1997,1998,1999,2000,2001,2002,2003,2004,2005,2006,2007,2008,2009,2010,2011,2012,2013,2014,2015,2016,2017,2018,2019,2020,2021,2022,2023],\"xaxis\":\"x\",\"y\":[-0.28,-0.18,-0.21,-0.28,-0.42,-0.44,-0.43,-0.44,-0.23,-0.17,-0.39,-0.25,-0.39,-0.47,-0.39,-0.3,-0.19,-0.16,-0.28,-0.2,-0.08,-0.12,-0.33,-0.37,-0.48,-0.28,-0.23,-0.47,-0.45,-0.49,-0.44,-0.42,-0.47,-0.42,-0.19,-0.14,-0.42,-0.57,-0.39,-0.35,-0.3,-0.11,-0.27,-0.22,-0.18,-0.13,0.02,-0.13,-0.1,-0.33,-0.01,0.05,-0.05,-0.25,0.0,-0.09,-0.03,0.13,0.16,0.09,0.17,0.23,0.12,0.18,0.27,0.1,0.03,0.08,-0.01,-0.03,-0.15,0.04,0.06,0.24,-0.02,-0.09,-0.23,0.04,0.15,0.12,0.08,0.08,0.12,0.14,-0.19,-0.14,-0.02,0.03,-0.07,-0.03,-0.04,-0.15,-0.18,0.09,-0.18,-0.05,-0.21,0.12,0.02,0.08,0.17,0.37,0.06,0.25,0.04,0.0,0.13,0.25,0.37,0.27,0.53,0.41,0.14,0.19,0.37,0.58,0.26,0.52,0.71,0.48,0.5,0.64,0.71,0.75,0.66,0.86,0.82,0.85,0.68,0.72,0.9,0.74,0.81,0.8,0.92,1.17,1.31,1.17,1.03,1.2,1.35,1.14,1.16,1.49],\"yaxis\":\"y\",\"type\":\"bar\"}],                        {\"template\":{\"data\":{\"histogram2dcontour\":[{\"type\":\"histogram2dcontour\",\"colorbar\":{\"outlinewidth\":0,\"ticks\":\"\"},\"colorscale\":[[0.0,\"#0d0887\"],[0.1111111111111111,\"#46039f\"],[0.2222222222222222,\"#7201a8\"],[0.3333333333333333,\"#9c179e\"],[0.4444444444444444,\"#bd3786\"],[0.5555555555555556,\"#d8576b\"],[0.6666666666666666,\"#ed7953\"],[0.7777777777777778,\"#fb9f3a\"],[0.8888888888888888,\"#fdca26\"],[1.0,\"#f0f921\"]]}],\"choropleth\":[{\"type\":\"choropleth\",\"colorbar\":{\"outlinewidth\":0,\"ticks\":\"\"}}],\"histogram2d\":[{\"type\":\"histogram2d\",\"colorbar\":{\"outlinewidth\":0,\"ticks\":\"\"},\"colorscale\":[[0.0,\"#0d0887\"],[0.1111111111111111,\"#46039f\"],[0.2222222222222222,\"#7201a8\"],[0.3333333333333333,\"#9c179e\"],[0.4444444444444444,\"#bd3786\"],[0.5555555555555556,\"#d8576b\"],[0.6666666666666666,\"#ed7953\"],[0.7777777777777778,\"#fb9f3a\"],[0.8888888888888888,\"#fdca26\"],[1.0,\"#f0f921\"]]}],\"heatmap\":[{\"type\":\"heatmap\",\"colorbar\":{\"outlinewidth\":0,\"ticks\":\"\"},\"colorscale\":[[0.0,\"#0d0887\"],[0.1111111111111111,\"#46039f\"],[0.2222222222222222,\"#7201a8\"],[0.3333333333333333,\"#9c179e\"],[0.4444444444444444,\"#bd3786\"],[0.5555555555555556,\"#d8576b\"],[0.6666666666666666,\"#ed7953\"],[0.7777777777777778,\"#fb9f3a\"],[0.8888888888888888,\"#fdca26\"],[1.0,\"#f0f921\"]]}],\"heatmapgl\":[{\"type\":\"heatmapgl\",\"colorbar\":{\"outlinewidth\":0,\"ticks\":\"\"},\"colorscale\":[[0.0,\"#0d0887\"],[0.1111111111111111,\"#46039f\"],[0.2222222222222222,\"#7201a8\"],[0.3333333333333333,\"#9c179e\"],[0.4444444444444444,\"#bd3786\"],[0.5555555555555556,\"#d8576b\"],[0.6666666666666666,\"#ed7953\"],[0.7777777777777778,\"#fb9f3a\"],[0.8888888888888888,\"#fdca26\"],[1.0,\"#f0f921\"]]}],\"contourcarpet\":[{\"type\":\"contourcarpet\",\"colorbar\":{\"outlinewidth\":0,\"ticks\":\"\"}}],\"contour\":[{\"type\":\"contour\",\"colorbar\":{\"outlinewidth\":0,\"ticks\":\"\"},\"colorscale\":[[0.0,\"#0d0887\"],[0.1111111111111111,\"#46039f\"],[0.2222222222222222,\"#7201a8\"],[0.3333333333333333,\"#9c179e\"],[0.4444444444444444,\"#bd3786\"],[0.5555555555555556,\"#d8576b\"],[0.6666666666666666,\"#ed7953\"],[0.7777777777777778,\"#fb9f3a\"],[0.8888888888888888,\"#fdca26\"],[1.0,\"#f0f921\"]]}],\"surface\":[{\"type\":\"surface\",\"colorbar\":{\"outlinewidth\":0,\"ticks\":\"\"},\"colorscale\":[[0.0,\"#0d0887\"],[0.1111111111111111,\"#46039f\"],[0.2222222222222222,\"#7201a8\"],[0.3333333333333333,\"#9c179e\"],[0.4444444444444444,\"#bd3786\"],[0.5555555555555556,\"#d8576b\"],[0.6666666666666666,\"#ed7953\"],[0.7777777777777778,\"#fb9f3a\"],[0.8888888888888888,\"#fdca26\"],[1.0,\"#f0f921\"]]}],\"mesh3d\":[{\"type\":\"mesh3d\",\"colorbar\":{\"outlinewidth\":0,\"ticks\":\"\"}}],\"scatter\":[{\"fillpattern\":{\"fillmode\":\"overlay\",\"size\":10,\"solidity\":0.2},\"type\":\"scatter\"}],\"parcoords\":[{\"type\":\"parcoords\",\"line\":{\"colorbar\":{\"outlinewidth\":0,\"ticks\":\"\"}}}],\"scatterpolargl\":[{\"type\":\"scatterpolargl\",\"marker\":{\"colorbar\":{\"outlinewidth\":0,\"ticks\":\"\"}}}],\"bar\":[{\"error_x\":{\"color\":\"#2a3f5f\"},\"error_y\":{\"color\":\"#2a3f5f\"},\"marker\":{\"line\":{\"color\":\"#E5ECF6\",\"width\":0.5},\"pattern\":{\"fillmode\":\"overlay\",\"size\":10,\"solidity\":0.2}},\"type\":\"bar\"}],\"scattergeo\":[{\"type\":\"scattergeo\",\"marker\":{\"colorbar\":{\"outlinewidth\":0,\"ticks\":\"\"}}}],\"scatterpolar\":[{\"type\":\"scatterpolar\",\"marker\":{\"colorbar\":{\"outlinewidth\":0,\"ticks\":\"\"}}}],\"histogram\":[{\"marker\":{\"pattern\":{\"fillmode\":\"overlay\",\"size\":10,\"solidity\":0.2}},\"type\":\"histogram\"}],\"scattergl\":[{\"type\":\"scattergl\",\"marker\":{\"colorbar\":{\"outlinewidth\":0,\"ticks\":\"\"}}}],\"scatter3d\":[{\"type\":\"scatter3d\",\"line\":{\"colorbar\":{\"outlinewidth\":0,\"ticks\":\"\"}},\"marker\":{\"colorbar\":{\"outlinewidth\":0,\"ticks\":\"\"}}}],\"scattermapbox\":[{\"type\":\"scattermapbox\",\"marker\":{\"colorbar\":{\"outlinewidth\":0,\"ticks\":\"\"}}}],\"scatterternary\":[{\"type\":\"scatterternary\",\"marker\":{\"colorbar\":{\"outlinewidth\":0,\"ticks\":\"\"}}}],\"scattercarpet\":[{\"type\":\"scattercarpet\",\"marker\":{\"colorbar\":{\"outlinewidth\":0,\"ticks\":\"\"}}}],\"carpet\":[{\"aaxis\":{\"endlinecolor\":\"#2a3f5f\",\"gridcolor\":\"white\",\"linecolor\":\"white\",\"minorgridcolor\":\"white\",\"startlinecolor\":\"#2a3f5f\"},\"baxis\":{\"endlinecolor\":\"#2a3f5f\",\"gridcolor\":\"white\",\"linecolor\":\"white\",\"minorgridcolor\":\"white\",\"startlinecolor\":\"#2a3f5f\"},\"type\":\"carpet\"}],\"table\":[{\"cells\":{\"fill\":{\"color\":\"#EBF0F8\"},\"line\":{\"color\":\"white\"}},\"header\":{\"fill\":{\"color\":\"#C8D4E3\"},\"line\":{\"color\":\"white\"}},\"type\":\"table\"}],\"barpolar\":[{\"marker\":{\"line\":{\"color\":\"#E5ECF6\",\"width\":0.5},\"pattern\":{\"fillmode\":\"overlay\",\"size\":10,\"solidity\":0.2}},\"type\":\"barpolar\"}],\"pie\":[{\"automargin\":true,\"type\":\"pie\"}]},\"layout\":{\"autotypenumbers\":\"strict\",\"colorway\":[\"#636efa\",\"#EF553B\",\"#00cc96\",\"#ab63fa\",\"#FFA15A\",\"#19d3f3\",\"#FF6692\",\"#B6E880\",\"#FF97FF\",\"#FECB52\"],\"font\":{\"color\":\"#2a3f5f\"},\"hovermode\":\"closest\",\"hoverlabel\":{\"align\":\"left\"},\"paper_bgcolor\":\"white\",\"plot_bgcolor\":\"#E5ECF6\",\"polar\":{\"bgcolor\":\"#E5ECF6\",\"angularaxis\":{\"gridcolor\":\"white\",\"linecolor\":\"white\",\"ticks\":\"\"},\"radialaxis\":{\"gridcolor\":\"white\",\"linecolor\":\"white\",\"ticks\":\"\"}},\"ternary\":{\"bgcolor\":\"#E5ECF6\",\"aaxis\":{\"gridcolor\":\"white\",\"linecolor\":\"white\",\"ticks\":\"\"},\"baxis\":{\"gridcolor\":\"white\",\"linecolor\":\"white\",\"ticks\":\"\"},\"caxis\":{\"gridcolor\":\"white\",\"linecolor\":\"white\",\"ticks\":\"\"}},\"coloraxis\":{\"colorbar\":{\"outlinewidth\":0,\"ticks\":\"\"}},\"colorscale\":{\"sequential\":[[0.0,\"#0d0887\"],[0.1111111111111111,\"#46039f\"],[0.2222222222222222,\"#7201a8\"],[0.3333333333333333,\"#9c179e\"],[0.4444444444444444,\"#bd3786\"],[0.5555555555555556,\"#d8576b\"],[0.6666666666666666,\"#ed7953\"],[0.7777777777777778,\"#fb9f3a\"],[0.8888888888888888,\"#fdca26\"],[1.0,\"#f0f921\"]],\"sequentialminus\":[[0.0,\"#0d0887\"],[0.1111111111111111,\"#46039f\"],[0.2222222222222222,\"#7201a8\"],[0.3333333333333333,\"#9c179e\"],[0.4444444444444444,\"#bd3786\"],[0.5555555555555556,\"#d8576b\"],[0.6666666666666666,\"#ed7953\"],[0.7777777777777778,\"#fb9f3a\"],[0.8888888888888888,\"#fdca26\"],[1.0,\"#f0f921\"]],\"diverging\":[[0,\"#8e0152\"],[0.1,\"#c51b7d\"],[0.2,\"#de77ae\"],[0.3,\"#f1b6da\"],[0.4,\"#fde0ef\"],[0.5,\"#f7f7f7\"],[0.6,\"#e6f5d0\"],[0.7,\"#b8e186\"],[0.8,\"#7fbc41\"],[0.9,\"#4d9221\"],[1,\"#276419\"]]},\"xaxis\":{\"gridcolor\":\"white\",\"linecolor\":\"white\",\"ticks\":\"\",\"title\":{\"standoff\":15},\"zerolinecolor\":\"white\",\"automargin\":true,\"zerolinewidth\":2},\"yaxis\":{\"gridcolor\":\"white\",\"linecolor\":\"white\",\"ticks\":\"\",\"title\":{\"standoff\":15},\"zerolinecolor\":\"white\",\"automargin\":true,\"zerolinewidth\":2},\"scene\":{\"xaxis\":{\"backgroundcolor\":\"#E5ECF6\",\"gridcolor\":\"white\",\"linecolor\":\"white\",\"showbackground\":true,\"ticks\":\"\",\"zerolinecolor\":\"white\",\"gridwidth\":2},\"yaxis\":{\"backgroundcolor\":\"#E5ECF6\",\"gridcolor\":\"white\",\"linecolor\":\"white\",\"showbackground\":true,\"ticks\":\"\",\"zerolinecolor\":\"white\",\"gridwidth\":2},\"zaxis\":{\"backgroundcolor\":\"#E5ECF6\",\"gridcolor\":\"white\",\"linecolor\":\"white\",\"showbackground\":true,\"ticks\":\"\",\"zerolinecolor\":\"white\",\"gridwidth\":2}},\"shapedefaults\":{\"line\":{\"color\":\"#2a3f5f\"}},\"annotationdefaults\":{\"arrowcolor\":\"#2a3f5f\",\"arrowhead\":0,\"arrowwidth\":1},\"geo\":{\"bgcolor\":\"white\",\"landcolor\":\"#E5ECF6\",\"subunitcolor\":\"white\",\"showland\":true,\"showlakes\":true,\"lakecolor\":\"white\"},\"title\":{\"x\":0.05},\"mapbox\":{\"style\":\"light\"}}},\"xaxis\":{\"anchor\":\"y\",\"domain\":[0.0,1.0],\"title\":{\"text\":\"Ann\\u00e9es\"}},\"yaxis\":{\"anchor\":\"x\",\"domain\":[0.0,1.0],\"title\":{\"text\":\"mean_year\"}},\"coloraxis\":{\"colorbar\":{\"title\":{\"text\":\"mean_year\"}},\"colorscale\":[[0.0,\"#0d0887\"],[0.1111111111111111,\"#46039f\"],[0.2222222222222222,\"#7201a8\"],[0.3333333333333333,\"#9c179e\"],[0.4444444444444444,\"#bd3786\"],[0.5555555555555556,\"#d8576b\"],[0.6666666666666666,\"#ed7953\"],[0.7777777777777778,\"#fb9f3a\"],[0.8888888888888888,\"#fdca26\"],[1.0,\"#f0f921\"]]},\"legend\":{\"tracegroupgap\":0},\"title\":{\"text\":\"Bar - mean_year (THN)\",\"y\":0.9,\"x\":0.4,\"xanchor\":\"center\",\"yanchor\":\"top\"},\"barmode\":\"stack\"},                        {\"responsive\": true}                    ).then(function(){\n",
       "                            \n",
       "var gd = document.getElementById('d2e237c4-f3bd-4ad9-b0b3-8a2bab8750d8');\n",
       "var x = new MutationObserver(function (mutations, observer) {{\n",
       "        var display = window.getComputedStyle(gd).display;\n",
       "        if (!display || display === 'none') {{\n",
       "            console.log([gd, 'removed!']);\n",
       "            Plotly.purge(gd);\n",
       "            observer.disconnect();\n",
       "        }}\n",
       "}});\n",
       "\n",
       "// Listen for the removal of the full notebook cells\n",
       "var notebookContainer = gd.closest('#notebook-container');\n",
       "if (notebookContainer) {{\n",
       "    x.observe(notebookContainer, {childList: true});\n",
       "}}\n",
       "\n",
       "// Listen for the clearing of the current output cell\n",
       "var outputEl = gd.closest('.output');\n",
       "if (outputEl) {{\n",
       "    x.observe(outputEl, {childList: true});\n",
       "}}\n",
       "\n",
       "                        })                };                });            </script>        </div>"
      ]
     },
     "metadata": {},
     "output_type": "display_data"
    }
   ],
   "source": [
    "# Fonction pour générer des graphiques interactifs afin de pouvoir augmenter la précision de la visualisation.\n",
    "\n",
    "def generate_graph(dataset_name, variable, graph_type):\n",
    "    df = datasets[dataset_name]  \n",
    "    title = f\"{graph_type} - {variable} ({dataset_name})\"\n",
    "    \n",
    "    if graph_type == \"Line\":\n",
    "        fig = px.line(df, x=\"Year\", y=variable, title=title)\n",
    "        fig.update_layout(xaxis_title='Années', yaxis_title=variable)\n",
    "        fig.update_traces(line_color='#456987')\n",
    "        fig.update_layout(title={\n",
    "            'y': 0.9,\n",
    "            'x': 0.5,\n",
    "            'xanchor': 'center',\n",
    "            'yanchor': 'top'\n",
    "        })\n",
    "    elif graph_type == \"Bar\":\n",
    "        fig = px.bar(df, x=\"Year\", y=variable, color=variable, title=title)\n",
    "        fig.update_layout(\n",
    "            barmode=\"stack\",\n",
    "            xaxis_title=\"Années\",\n",
    "            yaxis_title=variable\n",
    "        )\n",
    "        fig.layout.coloraxis.colorbar.title = variable\n",
    "        fig.update_layout(title={\n",
    "            'y': 0.9,\n",
    "            'x': 0.4,\n",
    "            'xanchor': 'center',\n",
    "            'yanchor': 'top'\n",
    "        })\n",
    "    elif graph_type == \"Box\":\n",
    "        fig = px.box(df, y=variable, title=title)\n",
    "        fig.update_layout(\n",
    "            yaxis_title=f\"{variable} (°C)\" if 'Temp' in dataset_name else variable,\n",
    "            title={\n",
    "                'y': 0.9,\n",
    "                'x': 0.5,\n",
    "                'xanchor': 'center',\n",
    "                'yanchor': 'top'\n",
    "            }\n",
    "        )\n",
    "    else:\n",
    "        raise ValueError(\"Invalid graph type. Use 'Line' or 'Bar',or Box.\")\n",
    "\n",
    "    fig.show()\n",
    "\n",
    "# Interface pour sélectionner les paramètres.\n",
    "dataset_name = input(\"Choisissez un dataset (CO2, THN, THS, THS): \")\n",
    "variable = input(f\"Choisissez une variable à visualiser dans {dataset_name} : \")\n",
    "graph_type = input(\"Choisissez un type de graphique (Line, Bar ou Box) : \")\n",
    "\n",
    "# Génération du graphique.\n",
    "generate_graph(dataset_name, variable, graph_type)"
   ]
  },
  {
   "cell_type": "code",
   "execution_count": null,
   "id": "8b4bce1f-40ce-4c6e-9016-30cb7bdea26d",
   "metadata": {},
   "outputs": [],
   "source": [
    "#Compte tenu de certains résultats obtenus lors de la visualisation (présence d'outliers), une analyse et un traitement plus approfondis sont nécessaires \n",
    "#pour approfondir l'analyse de nos données tout en évitant les biais.\""
   ]
  }
 ],
 "metadata": {
  "kernelspec": {
   "display_name": "Python 3 (ipykernel)",
   "language": "python",
   "name": "python3"
  },
  "language_info": {
   "codemirror_mode": {
    "name": "ipython",
    "version": 3
   },
   "file_extension": ".py",
   "mimetype": "text/x-python",
   "name": "python",
   "nbconvert_exporter": "python",
   "pygments_lexer": "ipython3",
   "version": "3.12.7"
  }
 },
 "nbformat": 4,
 "nbformat_minor": 5
}
